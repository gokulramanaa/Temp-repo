{
 "cells": [
  {
   "cell_type": "code",
   "execution_count": 1,
   "metadata": {},
   "outputs": [
    {
     "name": "stderr",
     "output_type": "stream",
     "text": [
      "C:\\Users\\gokul\\Anaconda3\\lib\\site-packages\\gensim\\utils.py:1197: UserWarning: detected Windows; aliasing chunkize to chunkize_serial\n",
      "  warnings.warn(\"detected Windows; aliasing chunkize to chunkize_serial\")\n"
     ]
    }
   ],
   "source": [
    "import json\n",
    "import pandas as pd\n",
    "import codecs\n",
    "from pandas.io.json import json_normalize as jsy\n",
    "#!pip install gensim\n",
    "from gensim.models import Word2Vec\n",
    "from nltk.corpus import brown # , #movie_review\n",
    "import numpy as np\n",
    "from textblob import TextBlob as tb"
   ]
  },
  {
   "cell_type": "code",
   "execution_count": 2,
   "metadata": {
    "collapsed": true
   },
   "outputs": [],
   "source": [
    "dev_set = pd.read_json('C:/Users/gokul/Documents/Projects/selqa-evaluater/SelQA-ass-dev.json', lines=True)\n",
    "train_set = pd.read_json('C:/Users/gokul/Documents/Projects/selqa-evaluater/SelQA-ass-train.json', lines = True)\n",
    "test_set = pd.read_json('C:/Users/gokul/Documents/Projects/selqa-evaluater/SelQA-ass-test.json', lines = True)"
   ]
  },
  {
   "cell_type": "code",
   "execution_count": 107,
   "metadata": {
    "scrolled": false
   },
   "outputs": [
    {
     "data": {
      "text/plain": [
       "article                                                    Physics\n",
       "candidates                                                     [3]\n",
       "is_paraphrase                                                 True\n",
       "question         What's an example of something that was a prob...\n",
       "section                                             Modern physics\n",
       "sentences        [Modern physics began in the early 20th centur...\n",
       "type                                                       SCIENCE\n",
       "Name: 999, dtype: object"
      ]
     },
     "execution_count": 107,
     "metadata": {},
     "output_type": "execute_result"
    }
   ],
   "source": [
    "train_set.iloc[999]\n"
   ]
  },
  {
   "cell_type": "markdown",
   "metadata": {},
   "source": [
    "### following is helper cell no need to run for exposure purpose"
   ]
  },
  {
   "cell_type": "code",
   "execution_count": null,
   "metadata": {
    "collapsed": true
   },
   "outputs": [],
   "source": [
    "test_set[test_set['article']=='Table tennis']\n",
    "x = test_set.loc[1422]['sentences']\n",
    "train_set[(train_set['article']=='Table tennis')&(train_set['section']=='Ball')]\n",
    "\n",
    "temp = (train_set.loc[0]['sentences'])\n",
    "j=0\n",
    "for i in range(len((train_set.loc[0]['sentences']))):\n",
    "    print(j)\n",
    "    print(temp[i])\n",
    "    j+=1"
   ]
  },
  {
   "cell_type": "markdown",
   "metadata": {},
   "source": [
    "### Create new dataframe from origine - mapping question to answer yet to complete for more than 1 candidate keys"
   ]
  },
  {
   "cell_type": "code",
   "execution_count": 4,
   "metadata": {
    "collapsed": true
   },
   "outputs": [],
   "source": [
    "train = pd.DataFrame(train_set['question'])\n",
    "train['answers'] = \"NA\"\n",
    "train.shape\n",
    "\n",
    "temp1 = len(train_set)\n",
    "for i in range(temp1):\n",
    "    #print(type(train_set.loc[i]['question']))\n",
    "    temp = len(train_set.loc[i]['candidates'])\n",
    "    if temp==1:\n",
    "        anskey = train_set.loc[i]['candidates'][0]\n",
    "        #print(type(train_set.loc[i]['sentences'][anskey]))\n",
    "        train.loc[i]['answers'] = train_set.loc[i]['sentences'][anskey]\n",
    "    else:\n",
    "        pass"
   ]
  },
  {
   "cell_type": "code",
   "execution_count": 139,
   "metadata": {},
   "outputs": [
    {
     "name": "stdout",
     "output_type": "stream",
     "text": [
      "Max lenght of X training: 31\n",
      "Max lenght of Y training: 83\n",
      "Min lenght of X training: 3\n",
      "Min lenght of Y training: 1\n"
     ]
    }
   ],
   "source": [
    "writetrain = train[train['answers']!=\"NA\"]\n",
    "X_train = np.array(writetrain['question'])\n",
    "Y_train = np.array(writetrain['answers'])\n",
    "\n",
    "maxLenxt = len(max(X_train, key=len).split())\n",
    "maxLenyt = len(max(Y_train, key=len).split())\n",
    "minLenxt = len(min(X_train, key=len).split())\n",
    "minLenyt = len(min(Y_train, key=len).split())\n",
    "print(\"Max lenght of X training:\", maxLenxt)\n",
    "print(\"Max lenght of Y training:\", maxLenyt)\n",
    "print(\"Min lenght of X training:\", minLenxt)\n",
    "print(\"Min lenght of Y training:\", minLenyt)"
   ]
  },
  {
   "cell_type": "code",
   "execution_count": 6,
   "metadata": {
    "collapsed": true
   },
   "outputs": [],
   "source": [
    "def read_glove_vec(glove_file):\n",
    "    with open(glove_file,encoding='utf8') as f:\n",
    "        words = set()\n",
    "        word_to_vec_map = {}\n",
    "        for line in f:\n",
    "            line = line.strip().split()\n",
    "            curr_word = line[0]\n",
    "            words.add(curr_word)\n",
    "            word_to_vec_map[curr_word] = np.array(line[1:], dtype=np.float64)\n",
    "        \n",
    "        i = 1\n",
    "        words_to_index = {}\n",
    "        index_to_words = {}\n",
    "        for w in sorted(words):\n",
    "            words_to_index[w] = i\n",
    "            index_to_words[i] = w\n",
    "            i = i + 1\n",
    "    return words_to_index, index_to_words, word_to_vec_map"
   ]
  },
  {
   "cell_type": "code",
   "execution_count": 7,
   "metadata": {},
   "outputs": [
    {
     "name": "stdout",
     "output_type": "stream",
     "text": [
      "the index of expired in the vocabulary is 142847\n",
      "the 289846th word in the vocabulary is potatos\n"
     ]
    }
   ],
   "source": [
    "word_to_index, index_to_word, word_to_vec_map = read_glove_vec('C:/Users/gokul/Documents/Deep_learning/New folder/C5W2A2 - Emojify - v2/data/glove.6B.50d.txt')\n",
    "\n",
    "word = \"expired\"\n",
    "index = 289846\n",
    "print(\"the index of\", word, \"in the vocabulary is\", word_to_index[word])\n",
    "print(\"the\", str(index) + \"th word in the vocabulary is\", index_to_word[index])"
   ]
  },
  {
   "cell_type": "code",
   "execution_count": 112,
   "metadata": {},
   "outputs": [
    {
     "data": {
      "text/plain": [
       "(5079,)"
      ]
     },
     "execution_count": 112,
     "metadata": {},
     "output_type": "execute_result"
    }
   ],
   "source": [
    "\n",
    "\n"
   ]
  },
  {
   "cell_type": "markdown",
   "metadata": {},
   "source": [
    "### Removing Question mark in all sentences"
   ]
  },
  {
   "cell_type": "code",
   "execution_count": 39,
   "metadata": {
    "scrolled": true
   },
   "outputs": [
    {
     "name": "stdout",
     "output_type": "stream",
     "text": [
      "5079\n",
      "0\n"
     ]
    }
   ],
   "source": [
    "count = 0\n",
    "countn = 0\n",
    "for i in range(len(X_train)):\n",
    "    temp = X_train[i][-1]\n",
    "    if temp != \"?\":\n",
    "        pass\n",
    "    else:\n",
    "        X_train[i] = X_train[i][:-1]\n",
    "        temp = X_train[i][-1]\n",
    "        if temp == \"?\":\n",
    "            X_train[i] = X_train[i][:-1]\n",
    "     \n",
    "### validating if all \"?\" are removed\n",
    "count = 0\n",
    "countn = 0\n",
    "for i in range(len(X_train)):\n",
    "    temp = X_train[i][-1]\n",
    "    if temp != \"?\":\n",
    "        #print(X_train[i])\n",
    "        count+=1\n",
    "    else:\n",
    "        countn+=1\n",
    "        print(i)\n",
    "        print(X_train[i])\n",
    "        #X_train[i] = X_train[i][:-1]\n",
    "print(count)\n",
    "print(countn)"
   ]
  },
  {
   "cell_type": "code",
   "execution_count": 190,
   "metadata": {
    "collapsed": true
   },
   "outputs": [],
   "source": [
    "def sentences_to_indices(X, word_to_vec_map, max_len):\n",
    "    \"\"\"\n",
    "    Converts an array of sentences (strings) into an array of indices corresponding to words in the sentences.\n",
    "    The output shape should be such that it can be given to `Embedding()` (described in Figure 4). \n",
    "    \n",
    "    Arguments:\n",
    "    X -- array of sentences (strings), of shape (m, 1)\n",
    "    word_to_index -- a dictionary containing the each word mapped to its index\n",
    "    max_len -- maximum number of words in a sentence. You can assume every sentence in X is no longer than this. \n",
    "    \n",
    "    Returns:\n",
    "    X_indices -- array of indices corresponding to words in the sentences from X, of shape (m, max_len)\n",
    "    \"\"\"\n",
    "    \n",
    "    \n",
    "    m = X.shape[0]                                   # number of training examples\n",
    "    \n",
    "    # Initialize X_indices as a numpy matrix of zeros and the correct shape (≈ 1 line)\n",
    "    X_indices = np.zeros((m,max_len,50))\n",
    "    te = list(word_to_vec_map.keys())\n",
    "    \n",
    "    for i in range(m):                               # loop over training examples\n",
    "        \n",
    "        # Convert the ith training sentence in lower case and split is into words. You should get a list of words.\n",
    "        temp1 = tb(X[i])\n",
    "        temp2 = tb(str(temp1.lower()))\n",
    "        sentence_words =temp2.words\n",
    "#         print(sentence_words)\n",
    "        # Initialize j to 0\n",
    "        j = 0\n",
    "        \n",
    "        # Loop over the words of sentence_words\n",
    "#         print(i,j)\n",
    "#         print(word_to_vec_map['during'])\n",
    "        for w in sentence_words:\n",
    "#             print(w)\n",
    "            # Set the (i,j)th entry of X_indices to the index of the correct word.\n",
    "            if str(w) in te:\n",
    "                X_indices[i, j] = word_to_vec_map[str(w)]\n",
    "            j = j + 1\n",
    "        \n",
    "    return X_indices"
   ]
  },
  {
   "cell_type": "code",
   "execution_count": null,
   "metadata": {
    "collapsed": true
   },
   "outputs": [],
   "source": [
    "X = sentences_to_indices(X_train, word_to_vec_map, 35)\n",
    "Y = sentences_to_indices(Y_train, word_to_vec_map, 100)"
   ]
  },
  {
   "cell_type": "code",
   "execution_count": 195,
   "metadata": {},
   "outputs": [
    {
     "data": {
      "text/plain": [
       "(5079, 35, 50)"
      ]
     },
     "execution_count": 195,
     "metadata": {},
     "output_type": "execute_result"
    }
   ],
   "source": [
    "X.shape\n",
    "Y.shape\n",
    "np.save('C:/Users/gokul/Documents/Projects/selqa-evaluater/X.npy', X)\n",
    "np.save('C:/Users/gokul/Documents/Projects/selqa-evaluater/Y.npy',Y)\n",
    "#new = np.load('./X.npy') to load back \n",
    "X = np.load('C:/Users/gokul/Documents/selqa-evaluater/Projects/X.npy')\n",
    "Y = np.load('C:/Users/gokul/Documents/selqa-evaluater/Projects/Y.npy')"
   ]
  },
  {
   "cell_type": "code",
   "execution_count": null,
   "metadata": {},
   "outputs": [],
   "source": []
  },
  {
   "cell_type": "code",
   "execution_count": null,
   "metadata": {},
   "outputs": [],
   "source": []
  },
  {
   "cell_type": "code",
   "execution_count": null,
   "metadata": {
    "collapsed": true
   },
   "outputs": [],
   "source": []
  },
  {
   "cell_type": "code",
   "execution_count": null,
   "metadata": {
    "collapsed": true
   },
   "outputs": [],
   "source": [
    "## Unwanted can be deleted later\n",
    "b = Word2Vec(brown.sents())\n",
    "b.most_similar('money', topn=5)\n",
    "\n",
    "type(brown.sents())\n",
    "x = list(brown.sents())\n",
    "len(x)\n",
    "len(x[10])\n",
    "x[10]\n",
    "b.build_vocab_from_freq(word_freq=3)"
   ]
  },
  {
   "cell_type": "code",
   "execution_count": null,
   "metadata": {
    "collapsed": true
   },
   "outputs": [],
   "source": []
  }
 ],
 "metadata": {
  "kernelspec": {
   "display_name": "Python 3",
   "language": "python",
   "name": "python3"
  },
  "language_info": {
   "codemirror_mode": {
    "name": "ipython",
    "version": 3
   },
   "file_extension": ".py",
   "mimetype": "text/x-python",
   "name": "python",
   "nbconvert_exporter": "python",
   "pygments_lexer": "ipython3",
   "version": "3.6.3"
  }
 },
 "nbformat": 4,
 "nbformat_minor": 2
}
