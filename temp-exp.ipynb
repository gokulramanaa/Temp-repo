{
 "cells": [
  {
   "cell_type": "code",
   "execution_count": 1,
   "metadata": {
    "collapsed": true
   },
   "outputs": [],
   "source": [
    "import json\n",
    "import pandas as pd\n",
    "import codecs\n",
    "import math\n",
    "from pandas.io.json import json_normalize as jsy\n",
    "#!pip install gensim\n",
    "#from gensim.models import Word2Vec\n",
    "#from nltk.corpus import brown # , #movie_review\n",
    "import numpy as np\n",
    "from textblob import TextBlob as tb\n",
    "import tensorflow as tf"
   ]
  },
  {
   "cell_type": "code",
   "execution_count": 2,
   "metadata": {
    "collapsed": true
   },
   "outputs": [],
   "source": [
    "dev_set = pd.read_json('C:/Users/gokul/Documents/Projects/selqa-evaluater/SelQA-ass-dev.json', lines=True)\n",
    "train_set = pd.read_json('C:/Users/gokul/Documents/Projects/selqa-evaluater/SelQA-ass-train.json', lines = True)\n",
    "test_set = pd.read_json('C:/Users/gokul/Documents/Projects/selqa-evaluater/SelQA-ass-test.json', lines = True)"
   ]
  },
  {
   "cell_type": "code",
   "execution_count": 1,
   "metadata": {
    "collapsed": true,
    "scrolled": false
   },
   "outputs": [],
   "source": [
    "# train_set.iloc[999]\n"
   ]
  },
  {
   "cell_type": "markdown",
   "metadata": {},
   "source": [
    "### following is helper cell no need to run for exposure purpose"
   ]
  },
  {
   "cell_type": "code",
   "execution_count": 18,
   "metadata": {
    "collapsed": true
   },
   "outputs": [],
   "source": [
    "# test_set[test_set['article']=='Table tennis']\n",
    "# x = test_set.loc[1422]['sentences']\n",
    "# train_set[(train_set['article']=='Table tennis')&(train_set['section']=='Ball')]\n",
    "\n",
    "# temp = (train_set.loc[0]['sentences'])\n",
    "# j=0\n",
    "# for i in range(len((train_set.loc[0]['sentences']))):\n",
    "#     print(j)\n",
    "#     print(temp[i])\n",
    "#     j+=1\n",
    "    \n",
    "# ## Unwanted can be deleted later\n",
    "# b = Word2Vec(brown.sents())\n",
    "# b.most_similar('money', topn=5)\n",
    "\n",
    "# type(brown.sents())\n",
    "# x = list(brown.sents())\n",
    "# len(x)\n",
    "# len(x[10])\n",
    "# x[10]\n",
    "# b.build_vocab_from_freq(word_freq=3)"
   ]
  },
  {
   "cell_type": "markdown",
   "metadata": {},
   "source": [
    "### Create new dataframe from origine - mapping question to answer yet to complete for more than 1 candidate keys"
   ]
  },
  {
   "cell_type": "code",
   "execution_count": 19,
   "metadata": {
    "collapsed": true
   },
   "outputs": [],
   "source": [
    "train = pd.DataFrame(train_set['question'])\n",
    "train['answers'] = \"NA\"\n",
    "train.shape\n",
    "\n",
    "temp1 = len(train_set)\n",
    "for i in range(temp1):\n",
    "    #print(type(train_set.loc[i]['question']))\n",
    "    temp = len(train_set.loc[i]['candidates'])\n",
    "    if temp==1:\n",
    "        anskey = train_set.loc[i]['candidates'][0]\n",
    "        #print(type(train_set.loc[i]['sentences'][anskey]))\n",
    "        train.loc[i]['answers'] = train_set.loc[i]['sentences'][anskey]\n",
    "    else:\n",
    "        pass"
   ]
  },
  {
   "cell_type": "code",
   "execution_count": 20,
   "metadata": {},
   "outputs": [
    {
     "name": "stdout",
     "output_type": "stream",
     "text": [
      "Max lenght of X training: 31\n",
      "Max lenght of Y training: 83\n",
      "Min lenght of X training: 3\n",
      "Min lenght of Y training: 1\n"
     ]
    }
   ],
   "source": [
    "writetrain = train[train['answers']!=\"NA\"]\n",
    "X_train = np.array(writetrain['question'])\n",
    "Y_train = np.array(writetrain['answers'])\n",
    "\n",
    "maxLenxt = len(max(X_train, key=len).split())\n",
    "maxLenyt = len(max(Y_train, key=len).split())\n",
    "minLenxt = len(min(X_train, key=len).split())\n",
    "minLenyt = len(min(Y_train, key=len).split())\n",
    "print(\"Max lenght of X training:\", maxLenxt)\n",
    "print(\"Max lenght of Y training:\", maxLenyt)\n",
    "print(\"Min lenght of X training:\", minLenxt)\n",
    "print(\"Min lenght of Y training:\", minLenyt)"
   ]
  },
  {
   "cell_type": "code",
   "execution_count": 7,
   "metadata": {
    "collapsed": true
   },
   "outputs": [],
   "source": [
    "def read_glove_vec(glove_file):\n",
    "    with open(glove_file,encoding='utf8') as f:\n",
    "        words = set()\n",
    "        word_to_vec_map = {}\n",
    "        for line in f:\n",
    "            line = line.strip().split()\n",
    "            curr_word = line[0]\n",
    "            words.add(curr_word)\n",
    "            word_to_vec_map[curr_word] = np.array(line[1:], dtype=np.float64)\n",
    "        \n",
    "        i = 1\n",
    "        words_to_index = {}\n",
    "        index_to_words = {}\n",
    "        for w in sorted(words):\n",
    "            words_to_index[w] = i\n",
    "            index_to_words[i] = w\n",
    "            i = i + 1\n",
    "    return words_to_index, index_to_words, word_to_vec_map"
   ]
  },
  {
   "cell_type": "code",
   "execution_count": 8,
   "metadata": {},
   "outputs": [],
   "source": [
    "word_to_index, index_to_word, word_to_vec_map = read_glove_vec('C:/Users/gokul/Documents/Deep_learning/New folder/C5W2A2 - Emojify - v2/data/glove.6B.50d.txt')\n",
    "\n",
    "# word = \"expired\"\n",
    "# index = 289846\n",
    "# print(\"the index of\", word, \"in the vocabulary is\", word_to_index[word])\n",
    "# print(\"the\", str(index) + \"th word in the vocabulary is\", index_to_word[index])"
   ]
  },
  {
   "cell_type": "code",
   "execution_count": 14,
   "metadata": {},
   "outputs": [
    {
     "data": {
      "text/plain": [
       "array([ 0.45323 ,  0.059811, -0.10577 , -0.333   ,  0.72359 , -0.08717 ,\n",
       "       -0.61053 , -0.037695, -0.30945 ,  0.21805 , -0.43605 ,  0.47318 ,\n",
       "       -0.76866 , -0.2713  ,  1.1042  ,  0.59141 ,  0.56962 , -0.18678 ,\n",
       "        0.14867 , -0.67292 , -0.34672 ,  0.52284 ,  0.22959 , -0.072014,\n",
       "        0.93967 , -2.3985  , -1.3238  ,  0.28698 ,  0.75509 , -0.76522 ,\n",
       "        3.3425  ,  0.17233 , -0.51803 , -0.8297  , -0.29333 , -0.50076 ,\n",
       "       -0.15228 ,  0.098973,  0.18146 , -0.1742  , -0.40666 ,  0.20348 ,\n",
       "       -0.011788,  0.48252 ,  0.024598,  0.34064 , -0.084724,  0.5324  ,\n",
       "       -0.25103 ,  0.62546 ])"
      ]
     },
     "execution_count": 14,
     "metadata": {},
     "output_type": "execute_result"
    }
   ],
   "source": [
    "\n",
    "word_to_vec_map[\"what\"]"
   ]
  },
  {
   "cell_type": "markdown",
   "metadata": {},
   "source": [
    "### Removing Question mark in all sentences"
   ]
  },
  {
   "cell_type": "code",
   "execution_count": null,
   "metadata": {
    "collapsed": true,
    "scrolled": true
   },
   "outputs": [],
   "source": [
    "count = 0\n",
    "countn = 0\n",
    "for i in range(len(X_train)):\n",
    "    temp = X_train[i][-1]\n",
    "    if temp != \"?\":\n",
    "        pass\n",
    "    else:\n",
    "        X_train[i] = X_train[i][:-1]\n",
    "        temp = X_train[i][-1]\n",
    "        if temp == \"?\":\n",
    "            X_train[i] = X_train[i][:-1]\n"
   ]
  },
  {
   "cell_type": "code",
   "execution_count": null,
   "metadata": {
    "collapsed": true
   },
   "outputs": [],
   "source": [
    "#validating of ? removed\n",
    "count = 0\n",
    "countn = 0\n",
    "for i in range(len(X_train)):\n",
    "    temp = X_train[i][-1]\n",
    "    if temp != \"?\":\n",
    "        #print(X_train[i])\n",
    "        count+=1\n",
    "    else:\n",
    "        countn+=1\n",
    "        print(i)\n",
    "        print(X_train[i])\n",
    "        #X_train[i] = X_train[i][:-1]\n",
    "        \n",
    "# print(count)\n",
    "# print(countn)"
   ]
  },
  {
   "cell_type": "markdown",
   "metadata": {},
   "source": [
    "# Big consideration  - function has to be updated for x_embedding and y_emb seperately\n",
    "\n",
    "y_emb shape 101"
   ]
  },
  {
   "cell_type": "code",
   "execution_count": 50,
   "metadata": {
    "collapsed": true
   },
   "outputs": [],
   "source": [
    "def sentences_to_indices(X, word_to_vec_map, max_len):\n",
    "    \"\"\"\n",
    "    Converts an array of sentences (strings) into an array of indices corresponding to words in the sentences.\n",
    "    The output shape should be such that it can be given to `Embedding()` (described in Figure 4). \n",
    "    \n",
    "    Arguments:\n",
    "    X -- array of sentences (strings), of shape (m, 1)\n",
    "    word_to_index -- a dictionary containing the each word mapped to its index\n",
    "    max_len -- maximum number of words in a sentence. You can assume every sentence in X is no longer than this. \n",
    "    \n",
    "    Returns:\n",
    "    X_indices -- array of indices corresponding to words in the sentences from X, of shape (m, max_len)\n",
    "    \"\"\"\n",
    "    \n",
    "    \n",
    "    m = X.shape[0]                                   # number of training examples\n",
    "    \n",
    "    # Initialize X_indices as a numpy matrix of zeros and the correct shape (≈ 1 line)\n",
    "    X_indices = np.zeros((m,max_len+1))\n",
    "    X_embedings = np.zeros((m,max_len+1,50))\n",
    "    te = list(word_to_vec_map.keys())\n",
    "    \n",
    "    for i in range(m):                               # loop over training examples\n",
    "        \n",
    "        # Convert the ith training sentence in lower case and split is into words. You should get a list of words.\n",
    "        temp1 = tb(X[i])\n",
    "        temp2 = tb(str(temp1.lower()))\n",
    "        sentence_words =temp2.words\n",
    "#         print(sentence_words)\n",
    "        # Initialize j to 0\n",
    "#         j = 0 #for x embeddings\n",
    "        j = 1 #for y embeddings\n",
    "        \n",
    "        # Loop over the words of sentence_words\n",
    "#         print(i,j)\n",
    "#         print(word_to_vec_map['during'])\n",
    "        for w in sentence_words:\n",
    "#             print(w)\n",
    "            # Set the (i,j)th entry of X_indices to the index of the correct word.\n",
    "            if str(w) in te:\n",
    "                X_embedings[i, j] = word_to_vec_map[str(w)]\n",
    "                X_indices[i,j] = word_to_index[str(w)]\n",
    "                \n",
    "            j = j + 1\n",
    "        \n",
    "    return X_indices, X_embedings"
   ]
  },
  {
   "cell_type": "code",
   "execution_count": 51,
   "metadata": {
    "collapsed": true
   },
   "outputs": [],
   "source": [
    "#X, X_embedings = sentences_to_indices(X_train, word_to_vec_map, 35)\n",
    "Y,Y_embedings = sentences_to_indices(Y_train, word_to_vec_map, 100)"
   ]
  },
  {
   "cell_type": "code",
   "execution_count": 52,
   "metadata": {},
   "outputs": [
    {
     "name": "stdout",
     "output_type": "stream",
     "text": [
      "(5079, 35)\n",
      "(5079, 101)\n",
      "(5079, 35, 50)\n",
      "(5079, 101, 50)\n"
     ]
    }
   ],
   "source": [
    "print(X.shape)\n",
    "print(Y.shape)\n",
    "print(X_embedings.shape)\n",
    "print(Y_embedings.shape)"
   ]
  },
  {
   "cell_type": "code",
   "execution_count": 53,
   "metadata": {
    "collapsed": true
   },
   "outputs": [],
   "source": [
    "np.save('C:/Users/gokul/Documents/Projects/selqa-evaluater/X.npy', X)\n",
    "np.save('C:/Users/gokul/Documents/Projects/selqa-evaluater/Y.npy',Y)\n",
    "np.save('C:/Users/gokul/Documents/Projects/selqa-evaluater/X_embedings.npy',X_embedings)\n",
    "np.save('C:/Users/gokul/Documents/Projects/selqa-evaluater/Y_embedings.npy',Y_embedings)\n",
    "#new = np.load('./X.npy') to load back "
   ]
  },
  {
   "cell_type": "code",
   "execution_count": 3,
   "metadata": {
    "collapsed": true
   },
   "outputs": [],
   "source": [
    "X = np.load('C:/Users/gokul/Documents/Projects/selqa-evaluater/X.npy')\n",
    "Y = np.load('C:/Users/gokul/Documents/Projects/selqa-evaluater/Y.npy')\n",
    "X_embedings = np.load('C:/Users/gokul/Documents/Projects/selqa-evaluater/X_embedings.npy')\n",
    "Y_embedings = np.load('C:/Users/gokul/Documents/Projects/selqa-evaluater/Y_embedings.npy')\n"
   ]
  },
  {
   "cell_type": "code",
   "execution_count": 11,
   "metadata": {},
   "outputs": [
    {
     "data": {
      "text/plain": [
       "array([[ 126848.,   43010.,   27962., ...,       0.,       0.,       0.],\n",
       "       [ 386307.,  126848.,  285068., ...,       0.,       0.,       0.],\n",
       "       [ 188481.,  386307.,  393302., ...,       0.,       0.,       0.],\n",
       "       ..., \n",
       "       [ 188481.,  357266.,  378743., ...,       0.,       0.,       0.],\n",
       "       [ 357266.,  389868.,  269798., ...,       0.,       0.,       0.],\n",
       "       [ 152427.,  284321.,  268046., ...,       0.,       0.,       0.]])"
      ]
     },
     "execution_count": 11,
     "metadata": {},
     "output_type": "execute_result"
    }
   ],
   "source": []
  },
  {
   "cell_type": "code",
   "execution_count": 4,
   "metadata": {},
   "outputs": [
    {
     "name": "stdout",
     "output_type": "stream",
     "text": [
      "(5079, 35)\n",
      "(5079, 101)\n"
     ]
    }
   ],
   "source": [
    "print(X.shape)\n",
    "print(Y.shape)\n",
    "#print(len(word_to_vec_map))"
   ]
  },
  {
   "cell_type": "code",
   "execution_count": 5,
   "metadata": {},
   "outputs": [
    {
     "name": "stdout",
     "output_type": "stream",
     "text": [
      "100\n"
     ]
    }
   ],
   "source": [
    "x_seq_length = len(X[1])\n",
    "y_seq_length = len(Y[1])- 1\n",
    "print(y_seq_length)\n"
   ]
  },
  {
   "cell_type": "code",
   "execution_count": 7,
   "metadata": {
    "collapsed": true
   },
   "outputs": [],
   "source": [
    "def random_mini_batches(X, Y, X_embedings, Y_embedings, mini_batch_size = 128, seed = 0):\n",
    "    \n",
    "    X = X.T\n",
    "    Y = Y.T\n",
    "    #print(Y.shape)\n",
    "    m = X.shape[1]                  # number of training examples\n",
    "#     print(m)\n",
    "    mini_batches = []\n",
    "    np.random.seed(seed)\n",
    "    \n",
    "    # Step 1: Shuffle (X, Y)\n",
    "    permutation = list(np.random.permutation(m))\n",
    "    shuffled_X = X[:, permutation]\n",
    "    shuffled_Y = Y[:, permutation] ##.reshape((Y.shape[0],m))\n",
    "    shuffled_X_embedings = X_embedings[permutation,:]\n",
    "    shuffled_Y_embedings = Y_embedings[permutation,:]\n",
    "\n",
    "    # Step 2: Partition (shuffled_X, shuffled_Y). Minus the end case.\n",
    "    num_complete_minibatches = math.floor(m/mini_batch_size) # number of mini batches of size mini_batch_size in your partitionning\n",
    "    for k in range(0, num_complete_minibatches):\n",
    "        mini_batch_X = shuffled_X[:, k * mini_batch_size : k * mini_batch_size + mini_batch_size]\n",
    "        mini_batch_Y = shuffled_Y[:, k * mini_batch_size : k * mini_batch_size + mini_batch_size]\n",
    "        mini_batch_X_emb = shuffled_X_embedings[ k * mini_batch_size : k * mini_batch_size + mini_batch_size,:]\n",
    "        mini_batch_Y_emb = shuffled_Y_embedings[k * mini_batch_size : k * mini_batch_size + mini_batch_size,:]\n",
    "        mini_batch = (mini_batch_X.T, mini_batch_Y.T, mini_batch_X_emb,mini_batch_Y_emb )\n",
    "        mini_batches.append(mini_batch)\n",
    "    \n",
    "    # Handling the end case (last mini-batch < mini_batch_size)\n",
    "    if m % mini_batch_size != 0:\n",
    "        mini_batch_X = shuffled_X[:, num_complete_minibatches * mini_batch_size : m]\n",
    "        mini_batch_Y = shuffled_Y[:, num_complete_minibatches * mini_batch_size : m]\n",
    "        mini_batch_X_emb = shuffled_X_embedings[num_complete_minibatches * mini_batch_size : m,:]\n",
    "        mini_batch_Y_emb = shuffled_Y_embedings[num_complete_minibatches * mini_batch_size : m, :]\n",
    "        mini_batch = (mini_batch_X.T, mini_batch_Y.T, mini_batch_X_emb, mini_batch_Y_emb)\n",
    "        mini_batches.append(mini_batch)\n",
    "    \n",
    "    return mini_batches\n"
   ]
  },
  {
   "cell_type": "code",
   "execution_count": 8,
   "metadata": {},
   "outputs": [
    {
     "name": "stdout",
     "output_type": "stream",
     "text": [
      "40\n",
      "(128, 35)\n",
      "(128, 101)\n",
      "(128, 35, 50)\n",
      "(128, 101, 50)\n"
     ]
    },
    {
     "data": {
      "text/plain": [
       "39"
      ]
     },
     "execution_count": 8,
     "metadata": {},
     "output_type": "execute_result"
    }
   ],
   "source": [
    "tem = random_mini_batches(X,Y, X_embedings, Y_embedings)\n",
    "print(len(tem))\n",
    "tem1 = tem[1]\n",
    "tem2,tem3,tem4,tem5 = tem1\n",
    "print(tem2.shape)\n",
    "print(tem3.shape)\n",
    "print(tem4.shape)\n",
    "print(tem5.shape)\n",
    "5079//128\n",
    "\n",
    "#len(word_to_index)"
   ]
  },
  {
   "cell_type": "code",
   "execution_count": 28,
   "metadata": {},
   "outputs": [
    {
     "name": "stderr",
     "output_type": "stream",
     "text": [
      "C:\\Users\\gokul\\Anaconda3\\lib\\site-packages\\tensorflow\\python\\client\\session.py:1711: UserWarning: An interactive session is already active. This can cause out-of-memory errors in some cases. You must explicitly call `InteractiveSession.close()` to release resources held by the other session(s).\n",
      "  warnings.warn('An interactive session is already active. This can '\n"
     ]
    },
    {
     "ename": "NameError",
     "evalue": "name 'projection_layer' is not defined",
     "output_type": "error",
     "traceback": [
      "\u001b[1;31m---------------------------------------------------------------------------\u001b[0m",
      "\u001b[1;31mNameError\u001b[0m                                 Traceback (most recent call last)",
      "\u001b[1;32m<ipython-input-28-dd07375aac77>\u001b[0m in \u001b[0;36m<module>\u001b[1;34m()\u001b[0m\n\u001b[0;32m     37\u001b[0m decoder = tf.contrib.seq2seq.BasicDecoder(\n\u001b[0;32m     38\u001b[0m     \u001b[0mdecoder_cell\u001b[0m\u001b[1;33m,\u001b[0m \u001b[0mhelper\u001b[0m\u001b[1;33m,\u001b[0m \u001b[0mlast_state\u001b[0m\u001b[1;33m,\u001b[0m\u001b[1;33m\u001b[0m\u001b[0m\n\u001b[1;32m---> 39\u001b[1;33m     output_layer=projection_layer)\n\u001b[0m\u001b[0;32m     40\u001b[0m \u001b[1;31m# Dynamic decoding\u001b[0m\u001b[1;33m\u001b[0m\u001b[1;33m\u001b[0m\u001b[0m\n\u001b[0;32m     41\u001b[0m \u001b[0moutputs\u001b[0m\u001b[1;33m,\u001b[0m \u001b[0m_\u001b[0m \u001b[1;33m=\u001b[0m \u001b[0mtf\u001b[0m\u001b[1;33m.\u001b[0m\u001b[0mcontrib\u001b[0m\u001b[1;33m.\u001b[0m\u001b[0mseq2seq\u001b[0m\u001b[1;33m.\u001b[0m\u001b[0mdynamic_decode\u001b[0m\u001b[1;33m(\u001b[0m\u001b[0mdecoder\u001b[0m\u001b[1;33m,\u001b[0m \u001b[1;33m...\u001b[0m\u001b[1;33m)\u001b[0m\u001b[1;33m\u001b[0m\u001b[0m\n",
      "\u001b[1;31mNameError\u001b[0m: name 'projection_layer' is not defined"
     ]
    }
   ],
   "source": [
    "epochs = 2\n",
    "# batch_size = 128\n",
    "minibatch_size = 128\n",
    "nodes = 64\n",
    "embed_size = 10\n",
    "\n",
    "tf.reset_default_graph()\n",
    "sess = tf.InteractiveSession()\n",
    "\n",
    "inputs = tf.placeholder(tf.int32, (None, x_seq_length), 'inputs')\n",
    "outputs = tf.placeholder(tf.int32, (None, None), 'output')\n",
    "targets = tf.placeholder(tf.int32, (None, None), 'targets')\n",
    "\n",
    "ques_input_embedding = tf.placeholder(tf.float32, (None, 35,50),'ques_input_embedding')\n",
    "ques_output_embedding = tf.placeholder(tf.float32,(None, None, 50),'ques_output_embedding')\n",
    "sequence_length = tf.zeros((100),tf.int32, 'sequence_length')\n",
    "\n",
    "with tf.variable_scope(\"encoding\") as encoding_scope:\n",
    "    lstm_enc = tf.contrib.rnn.BasicLSTMCell(nodes)\n",
    "    _, last_state = tf.nn.dynamic_rnn(lstm_enc, inputs=ques_input_embedding, dtype=tf.float32)\n",
    "\n",
    "with tf.variable_scope(\"decoding\") as decoding_scope:\n",
    "    lstm_dec = tf.contrib.rnn.BasicLSTMCell(nodes)\n",
    "    dec_outputs, _ = tf.nn.dynamic_rnn(lstm_dec, inputs=ques_output_embedding, initial_state=last_state)\n",
    "    \n",
    "\n",
    "# # Build RNN cell\n",
    "# decoder_cell = tf.nn.rnn_cell.BasicLSTMCell(nodes)\n",
    "    \n",
    "# # logits = dec_outputs.rnn\n",
    "\n",
    "\n",
    "# # Helper\n",
    "# helper = tf.contrib.seq2seq.TrainingHelper(\n",
    "#     ques_output_embedding, sequence_length, time_major=True)\n",
    "# # Decoder\n",
    "# decoder = tf.contrib.seq2seq.BasicDecoder(\n",
    "#     decoder_cell, helper, last_state,\n",
    "#     output_layer=projection_layer)\n",
    "# # Dynamic decoding\n",
    "# outputs, _ = tf.contrib.seq2seq.dynamic_decode(decoder, ...)\n",
    "# logits = outputs.rnn_output\n",
    "    \n",
    "logits = tf.contrib.layers.fully_connected(dec_outputs, num_outputs=len(word_to_index), activation_fn=None) \n",
    "with tf.name_scope(\"optimization\"):\n",
    "#     print(logits.get_shape().as_list())\n",
    "#     print(targets.get_shape().as_list())\n",
    "    loss = tf.contrib.seq2seq.sequence_loss(logits, targets, tf.ones([minibatch_size, 100]))\n",
    "    optimizer = tf.train.RMSPropOptimizer(1e-3).minimize(loss)\n"
   ]
  },
  {
   "cell_type": "code",
   "execution_count": 65,
   "metadata": {},
   "outputs": [
    {
     "name": "stdout",
     "output_type": "stream",
     "text": [
      "[None, None, 64]\n",
      "[None, 64]\n",
      "[None, 35, 50]\n",
      "[None, None, 400000]\n",
      "[None, None]\n"
     ]
    }
   ],
   "source": [
    "print(dec_outputs.get_shape().as_list())\n",
    "print(last_state[0].get_shape().as_list())\n",
    "print(ques_input_embedding.get_shape().as_list())\n",
    "print(logits.get_shape().as_list())\n",
    "print(targets.get_shape().as_list())"
   ]
  },
  {
   "cell_type": "code",
   "execution_count": 10,
   "metadata": {},
   "outputs": [
    {
     "data": {
      "text/plain": [
       "(5079, 35)"
      ]
     },
     "execution_count": 10,
     "metadata": {},
     "output_type": "execute_result"
    }
   ],
   "source": [
    "X.shape"
   ]
  },
  {
   "cell_type": "code",
   "execution_count": 13,
   "metadata": {},
   "outputs": [
    {
     "data": {
      "text/plain": [
       "(5079, 100)"
      ]
     },
     "execution_count": 13,
     "metadata": {},
     "output_type": "execute_result"
    }
   ],
   "source": [
    "Y.shape"
   ]
  },
  {
   "cell_type": "code",
   "execution_count": null,
   "metadata": {
    "collapsed": true
   },
   "outputs": [],
   "source": []
  },
  {
   "cell_type": "code",
   "execution_count": null,
   "metadata": {},
   "outputs": [
    {
     "name": "stdout",
     "output_type": "stream",
     "text": [
      "(128, 100)\n"
     ]
    }
   ],
   "source": [
    "import random\n",
    "import json\n",
    "import os\n",
    "import time\n",
    "\n",
    "sess.run(tf.global_variables_initializer())\n",
    "epochs = 10\n",
    "for epoch_i in range(1):\n",
    "    start_time = time.time()\n",
    "#     m = 5079\n",
    "#     num_minibatches = int(m / minibatch_size)\n",
    "#     print(num_minibatches)\n",
    "    minibatches = random_mini_batches(X, Y, X_embedings, Y_embedings)\n",
    "#     print(X.shape)\n",
    "#     print(Y.shape)\n",
    "#     print(len(minibatches))\n",
    "    \n",
    "    for minibatch in minibatches:\n",
    "        (minibatch_X, minibatch_Y, minibatch_X_emb, minibatch_Y_emb) = minibatch\n",
    "#         print(minibatch_X_emb.shape)\n",
    "#         print(minibatch_Y_emb.shape)\n",
    "        print(minibatch_Y[:, 1:].shape)\n",
    "        _, batch_loss, batch_logits = sess.run([optimizer, loss, logits],\n",
    "            feed_dict = {inputs: minibatch_X,\n",
    "             outputs: minibatch_Y[:, :-1],\n",
    "             targets: minibatch_Y[:, 1:],\n",
    "             ques_input_embedding: minibatch_X_emb,\n",
    "             ques_output_embedding: minibatch_Y_emb[:,:-1]})\n",
    "\n",
    "    print('Epoch {:3} Loss: {:>6.3f} Accuracy: {:>6.4f} Epoch duration: {:>6.3f}s'.format(epoch_i, batch_loss, \n",
    "                                                                      100, time.time() - start_time))"
   ]
  },
  {
   "cell_type": "code",
   "execution_count": null,
   "metadata": {
    "collapsed": true
   },
   "outputs": [],
   "source": []
  }
 ],
 "metadata": {
  "kernelspec": {
   "display_name": "Python 3",
   "language": "python",
   "name": "python3"
  },
  "language_info": {
   "codemirror_mode": {
    "name": "ipython",
    "version": 3
   },
   "file_extension": ".py",
   "mimetype": "text/x-python",
   "name": "python",
   "nbconvert_exporter": "python",
   "pygments_lexer": "ipython3",
   "version": "3.6.3"
  }
 },
 "nbformat": 4,
 "nbformat_minor": 2
}
