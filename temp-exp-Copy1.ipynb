{
 "cells": [
  {
   "cell_type": "code",
   "execution_count": 6,
   "metadata": {},
   "outputs": [],
   "source": [
    "import json\n",
    "import pandas as pd\n",
    "import codecs\n",
    "import math\n",
    "from pandas.io.json import json_normalize as jsy\n",
    "#!pip install gensim\n",
    "from gensim.models import Word2Vec\n",
    "from nltk.corpus import brown # , #movie_review\n",
    "import numpy as np\n",
    "from textblob import TextBlob as tb\n",
    "import tensorflow as tf\n",
    "import random\n",
    "import os\n",
    "import time\n"
   ]
  },
  {
   "cell_type": "code",
   "execution_count": 21,
   "metadata": {
    "collapsed": true
   },
   "outputs": [],
   "source": [
    "def read_glove_vec(glove_file):\n",
    "    with open(glove_file,encoding='utf8') as f:\n",
    "        words = set()\n",
    "        word_to_vec_map = {}\n",
    "        for line in f:\n",
    "            line = line.strip().split()\n",
    "            curr_word = line[0]\n",
    "            words.add(curr_word)\n",
    "            word_to_vec_map[curr_word] = np.array(line[1:], dtype=np.float64)\n",
    "        \n",
    "        i = 1\n",
    "        words_to_index = {}\n",
    "        index_to_words = {}\n",
    "        for w in sorted(words):\n",
    "            words_to_index[w] = i\n",
    "            index_to_words[i] = w\n",
    "            i = i + 1\n",
    "    return words_to_index, index_to_words, word_to_vec_map"
   ]
  },
  {
   "cell_type": "code",
   "execution_count": 22,
   "metadata": {},
   "outputs": [
    {
     "name": "stdout",
     "output_type": "stream",
     "text": [
      "the index of expired in the vocabulary is 142847\n",
      "the 289846th word in the vocabulary is potatos\n"
     ]
    }
   ],
   "source": [
    "word_to_index, index_to_word, word_to_vec_map = read_glove_vec('C:/Users/gokul/Documents/Deep_learning/New folder/C5W2A2 - Emojify - v2/data/glove.6B.50d.txt')\n",
    "\n",
    "# word = \"expired\"\n",
    "# index = 289846\n",
    "# print(\"the index of\", word, \"in the vocabulary is\", word_to_index[word])\n",
    "# print(\"the\", str(index) + \"th word in the vocabulary is\", index_to_word[index])"
   ]
  },
  {
   "cell_type": "code",
   "execution_count": 2,
   "metadata": {
    "collapsed": true
   },
   "outputs": [],
   "source": [
    "X = np.load('C:/Users/gokul/Documents/Projects/selqa-evaluater/X.npy')\n",
    "Y = np.load('C:/Users/gokul/Documents/Projects/selqa-evaluater/Y.npy')\n",
    "X_embedings = np.load('C:/Users/gokul/Documents/Projects/selqa-evaluater/X_embedings.npy')\n",
    "Y_embedings = np.load('C:/Users/gokul/Documents/Projects/selqa-evaluater/Y_embedings.npy')\n"
   ]
  },
  {
   "cell_type": "code",
   "execution_count": 4,
   "metadata": {},
   "outputs": [
    {
     "name": "stdout",
     "output_type": "stream",
     "text": [
      "(5079, 35)\n",
      "(5079, 101)\n"
     ]
    }
   ],
   "source": [
    "print(X.shape)\n",
    "print(Y.shape)"
   ]
  },
  {
   "cell_type": "code",
   "execution_count": 5,
   "metadata": {},
   "outputs": [
    {
     "name": "stdout",
     "output_type": "stream",
     "text": [
      "100\n"
     ]
    }
   ],
   "source": [
    "x_seq_length = len(X[1])\n",
    "y_seq_length = len(Y[1])- 1\n",
    "print(y_seq_length)"
   ]
  },
  {
   "cell_type": "code",
   "execution_count": 58,
   "metadata": {
    "collapsed": true
   },
   "outputs": [],
   "source": [
    "def random_mini_batches(X, Y, X_embedings, Y_embedings, mini_batch_size = 128, seed = 0):\n",
    "    \n",
    "    X = X.T\n",
    "    Y = Y.T\n",
    "    #print(Y.shape)\n",
    "    m = X.shape[1]                  # number of training examples\n",
    "#     print(m)\n",
    "    mini_batches = []\n",
    "    np.random.seed(seed)\n",
    "    \n",
    "    # Step 1: Shuffle (X, Y)\n",
    "    permutation = list(np.random.permutation(m))\n",
    "    shuffled_X = X[:, permutation]\n",
    "    shuffled_Y = Y[:, permutation] ##.reshape((Y.shape[0],m))\n",
    "    shuffled_X_embedings = X_embedings[permutation,:]\n",
    "    shuffled_Y_embedings = Y_embedings[permutation,:]\n",
    "\n",
    "    # Step 2: Partition (shuffled_X, shuffled_Y). Minus the end case.\n",
    "    num_complete_minibatches = math.floor(m/mini_batch_size) # number of mini batches of size mini_batch_size in your partitionning\n",
    "    for k in range(0, num_complete_minibatches):\n",
    "        mini_batch_X = shuffled_X[:, k * mini_batch_size : k * mini_batch_size + mini_batch_size]\n",
    "        mini_batch_Y = shuffled_Y[:, k * mini_batch_size : k * mini_batch_size + mini_batch_size]\n",
    "        mini_batch_X_emb = shuffled_X_embedings[ k * mini_batch_size : k * mini_batch_size + mini_batch_size,:]\n",
    "        mini_batch_Y_emb = shuffled_Y_embedings[k * mini_batch_size : k * mini_batch_size + mini_batch_size,:]\n",
    "        mini_batch = (mini_batch_X.T, mini_batch_Y.T, mini_batch_X_emb,mini_batch_Y_emb )\n",
    "        mini_batches.append(mini_batch)\n",
    "    \n",
    "    # Handling the end case (last mini-batch < mini_batch_size)\n",
    "    if m % mini_batch_size != 0:\n",
    "        mini_batch_X = shuffled_X[:, num_complete_minibatches * mini_batch_size : m]\n",
    "        mini_batch_Y = shuffled_Y[:, num_complete_minibatches * mini_batch_size : m]\n",
    "        mini_batch_X_emb = shuffled_X_embedings[num_complete_minibatches * mini_batch_size : m,:]\n",
    "        mini_batch_Y_emb = shuffled_Y_embedings[num_complete_minibatches * mini_batch_size : m, :]\n",
    "        mini_batch = (mini_batch_X.T, mini_batch_Y.T, mini_batch_X_emb, mini_batch_Y_emb)\n",
    "        mini_batches.append(mini_batch)\n",
    "    \n",
    "    return mini_batches\n"
   ]
  },
  {
   "cell_type": "code",
   "execution_count": 59,
   "metadata": {},
   "outputs": [
    {
     "name": "stdout",
     "output_type": "stream",
     "text": [
      "40\n",
      "(128, 35)\n",
      "(128, 101)\n",
      "(128, 35, 50)\n",
      "(128, 101, 50)\n"
     ]
    },
    {
     "data": {
      "text/plain": [
       "400000"
      ]
     },
     "execution_count": 59,
     "metadata": {},
     "output_type": "execute_result"
    }
   ],
   "source": [
    "tem = random_mini_batches(X,Y, X_embedings, Y_embedings)\n",
    "print(len(tem))\n",
    "tem1 = tem[1]\n",
    "tem2,tem3,tem4,tem5 = tem1\n",
    "print(tem2.shape)\n",
    "print(tem3.shape)\n",
    "print(tem4.shape)\n",
    "print(tem5.shape)\n",
    "# 5079//128\n",
    "\n",
    "len(word_to_index)"
   ]
  },
  {
   "cell_type": "code",
   "execution_count": 64,
   "metadata": {
    "collapsed": true
   },
   "outputs": [],
   "source": [
    "epochs = 2\n",
    "# batch_size = 128\n",
    "minibatch_size = 128\n",
    "nodes = 64\n",
    "embed_size = 10\n",
    "\n",
    "tf.reset_default_graph()\n",
    "sess = tf.InteractiveSession()\n",
    "\n",
    "inputs = tf.placeholder(tf.int32, (None, x_seq_length), 'inputs')\n",
    "outputs = tf.placeholder(tf.int32, (None, None), 'output')\n",
    "targets = tf.placeholder(tf.int32, (None, None), 'targets')\n",
    "\n",
    "ques_input_embedding = tf.placeholder(tf.float32, (None, 35,50),'ques_input_embedding')\n",
    "ques_output_embedding = tf.placeholder(tf.float32,(None, None, 50),'ques_output_embedding')\n",
    "\n",
    "with tf.variable_scope(\"encoding\") as encoding_scope:\n",
    "    lstm_enc = tf.contrib.rnn.BasicLSTMCell(nodes)\n",
    "    _, last_state = tf.nn.dynamic_rnn(lstm_enc, inputs=ques_input_embedding, dtype=tf.float32)\n",
    "\n",
    "with tf.variable_scope(\"decoding\") as decoding_scope:\n",
    "    lstm_dec = tf.contrib.rnn.BasicLSTMCell(nodes)\n",
    "    dec_outputs, _ = tf.nn.dynamic_rnn(lstm_dec, inputs=ques_output_embedding, initial_state=last_state)\n",
    "    \n",
    "logits = tf.contrib.layers.fully_connected(dec_outputs, num_outputs=len(word_to_index), activation_fn=None) \n",
    "with tf.name_scope(\"optimization\"):\n",
    "#     print(logits.get_shape().as_list())\n",
    "#     print(targets.get_shape().as_list())\n",
    "    loss = tf.contrib.seq2seq.sequence_loss(logits, targets, tf.ones([minibatch_size, 100]))\n",
    "    optimizer = tf.train.RMSPropOptimizer(1e-3).minimize(loss)\n"
   ]
  },
  {
   "cell_type": "code",
   "execution_count": 65,
   "metadata": {},
   "outputs": [
    {
     "name": "stdout",
     "output_type": "stream",
     "text": [
      "[None, None, 64]\n",
      "[None, 64]\n",
      "[None, 35, 50]\n",
      "[None, None, 400000]\n",
      "[None, None]\n"
     ]
    }
   ],
   "source": [
    "print(dec_outputs.get_shape().as_list())\n",
    "print(last_state[0].get_shape().as_list())\n",
    "print(ques_input_embedding.get_shape().as_list())\n",
    "print(logits.get_shape().as_list())\n",
    "print(targets.get_shape().as_list())"
   ]
  },
  {
   "cell_type": "code",
   "execution_count": null,
   "metadata": {},
   "outputs": [
    {
     "name": "stdout",
     "output_type": "stream",
     "text": [
      "(128, 100)\n"
     ]
    }
   ],
   "source": [
    "\n",
    "sess.run(tf.global_variables_initializer())\n",
    "epochs = 10\n",
    "for epoch_i in range(1):\n",
    "    start_time = time.time()\n",
    "#     m = 5079\n",
    "#     num_minibatches = int(m / minibatch_size)\n",
    "#     print(num_minibatches)\n",
    "    minibatches = random_mini_batches(X, Y, X_embedings, Y_embedings)\n",
    "#     print(X.shape)\n",
    "#     print(Y.shape)\n",
    "#     print(len(minibatches))\n",
    "    \n",
    "    for minibatch in minibatches:\n",
    "        (minibatch_X, minibatch_Y, minibatch_X_emb, minibatch_Y_emb) = minibatch\n",
    "#         print(minibatch_X_emb.shape)\n",
    "#         print(minibatch_Y_emb.shape)\n",
    "        print(minibatch_Y[:, 1:].shape)\n",
    "        _, batch_loss, batch_logits = sess.run([optimizer, loss, logits],\n",
    "            feed_dict = {inputs: minibatch_X,\n",
    "             outputs: minibatch_Y[:, :-1],\n",
    "             targets: minibatch_Y[:, 1:],\n",
    "             ques_input_embedding: minibatch_X_emb,\n",
    "             ques_output_embedding: minibatch_Y_emb[:,:-1]})\n",
    "\n",
    "    print('Epoch {:3} Loss: {:>6.3f} Accuracy: {:>6.4f} Epoch duration: {:>6.3f}s'.format(epoch_i, batch_loss, \n",
    "                                                                      100, time.time() - start_time))"
   ]
  },
  {
   "cell_type": "code",
   "execution_count": null,
   "metadata": {
    "collapsed": true
   },
   "outputs": [],
   "source": []
  }
 ],
 "metadata": {
  "kernelspec": {
   "display_name": "Python 3",
   "language": "python",
   "name": "python3"
  },
  "language_info": {
   "codemirror_mode": {
    "name": "ipython",
    "version": 3
   },
   "file_extension": ".py",
   "mimetype": "text/x-python",
   "name": "python",
   "nbconvert_exporter": "python",
   "pygments_lexer": "ipython3",
   "version": "3.6.3"
  }
 },
 "nbformat": 4,
 "nbformat_minor": 2
}
