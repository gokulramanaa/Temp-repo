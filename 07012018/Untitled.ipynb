{
 "cells": [
  {
   "cell_type": "code",
   "execution_count": 223,
   "metadata": {},
   "outputs": [],
   "source": [
    "# -*- coding: utf-8 -*-\n",
    "\"\"\"\n",
    "Created on Fri Jun 29 10:41:17 2018\n",
    "\n",
    "@author: gsoun\n",
    "\"\"\"\n",
    "\n",
    "# -*- coding: utf-8 -*-\n",
    "\"\"\"\n",
    "Created on Wed Jun 27 11:41:34 2018\n",
    "\n",
    "@author: gsoun\n",
    "\"\"\"\n",
    "from datetime import datetime\n",
    "startTime = datetime.now()\n",
    "#from __future__ import generator_stop\n",
    "#import random\n",
    "#from nltk.probability import *\n",
    "#import string\n",
    "#import copy\n",
    "#from nltk.util import ngrams\n",
    "import numpy as np\n",
    "import nltk, string\n",
    "import pandas as pd\n",
    "from sklearn.utils import shuffle\n",
    "\n",
    "# li = ['timestamp', 'description','limit6','mailid','float']\n",
    "# temp = pd.read_csv(\"./dataset.csv\")\n",
    "temp = pd.read_csv(\"C:/Users/gsoun/Downloads/Temp-repo-master/reld.csv\", \n",
    "                   delimiter='|', header=None, low_memory=False)\n",
    "\n",
    "df = pd.read_csv(\"C:/Users/gsoun/Book1.csv\")\n",
    "\n",
    "temp.columns = temp.columns.astype(str)\n",
    "temp = shuffle(temp)\n",
    "temp = temp.fillna(\"\")\n",
    "temp.to_csv(\"./input.csv\")\n",
    "tempn = pd.DataFrame()\n",
    "for i in temp.columns:\n",
    "    tempn[str(i)] = '* ' + temp[str(i)].map(str) + ' *'\n",
    "le80 = int(0.8 * len(tempn))\n",
    "npdf = tempn[:le80]\n",
    "tedf = tempn[le80:]\n",
    "\n",
    "# =============================================================================\n",
    "# d \n",
    "#  '|': '|',\n",
    "#  '}': '}',\n",
    "#  '~': '~',\n",
    "#  '0': 'n',\n",
    "#  '1': 'n',\n",
    "#  '2': 'n',\n",
    "#  '9': 'n',\n",
    "#  'a': 'c',\n",
    "#  'b': 'c',\n",
    "#  'c': 'c',\n",
    "# =============================================================================\n",
    "def map_parameter_init():\n",
    "    d = {}\n",
    "    pun = list(string.punctuation)\n",
    "    num = list(string.digits)\n",
    "    let = list(string.ascii_letters)\n",
    "    for i in pun:\n",
    "        d[i] = i\n",
    "    for j in num:\n",
    "        d[j] = 'n'\n",
    "    for k in let:\n",
    "        d[k] = 'c'\n",
    "    d[' '] = ' '\n",
    "    d['\\n'] = '\\n'\n",
    "    d['\\t'] = '\\t'\n",
    "    return d\n",
    "\n",
    "# =============================================================================\n",
    "# VARIABLE INITIALIZATION\n",
    "# =============================================================================\n",
    "d = map_parameter_init()\n",
    "vi = dict()\n",
    "cfd = dict()\n",
    "mingram = dict()\n",
    "total = dict()\n",
    "cols = temp.columns\n",
    "lin = {key:set() for key in cols}\n"
   ]
  },
  {
   "cell_type": "code",
   "execution_count": 262,
   "metadata": {},
   "outputs": [],
   "source": [
    "rejli = {key:[] for key in cols}\n",
    "rejrli ={key:[] for key in cols}\n",
    "rejin = {key:set() for key in cols}\n",
    "indi = {key:[] for key in cols}\n",
    "Xpd = pd.DataFrame(np.zeros(temp.shape), columns=tedf.columns)\n",
    "test = {key:set() for key in cols}\n"
   ]
  },
  {
   "cell_type": "code",
   "execution_count": 227,
   "metadata": {},
   "outputs": [
    {
     "name": "stdout",
     "output_type": "stream",
     "text": [
      "Training takes place..\n",
      "Column  0 is completed\n",
      "Column  1 is completed\n",
      "Column  2 is completed\n",
      "Column  3 is completed\n",
      "Column  4 is completed\n",
      "Column  5 is completed\n",
      "Column  6 is completed\n",
      "Column  7 is completed\n",
      "Column  8 is completed\n",
      "Column  9 is completed\n",
      "Column  10 is completed\n",
      "Column  11 is completed\n",
      "Column  12 is completed\n",
      "Column  13 is completed\n",
      "Column  14 is completed\n",
      "Column  15 is completed\n",
      "{'0': <ConditionalFreqDist with 49 conditions>, '1': <ConditionalFreqDist with 7 conditions>, '2': <ConditionalFreqDist with 145 conditions>, '3': <ConditionalFreqDist with 56 conditions>, '4': <ConditionalFreqDist with 10 conditions>, '5': <ConditionalFreqDist with 7 conditions>, '6': <ConditionalFreqDist with 10 conditions>, '7': <ConditionalFreqDist with 76 conditions>, '8': <ConditionalFreqDist with 6 conditions>, '9': <ConditionalFreqDist with 14 conditions>, '10': <ConditionalFreqDist with 13 conditions>, '11': <ConditionalFreqDist with 30 conditions>, '12': <ConditionalFreqDist with 9 conditions>, '13': <ConditionalFreqDist with 10 conditions>, '14': <ConditionalFreqDist with 10 conditions>, '15': <ConditionalFreqDist with 39 conditions>}\n",
      "0:01:48.108000\n",
      "Training completed and testing takes place in testing data\n"
     ]
    }
   ],
   "source": [
    "startTime = datetime.now()\n",
    "def mapval(a, i):\n",
    "    u,inv = np.unique(a,return_inverse= True)\n",
    "    tel = tuple(np.array([d[x] for x in u])[inv])\n",
    "    lin[str(i)].add(tel)\n",
    "\n",
    "def trainmode():\n",
    "    for i in cols:\n",
    "        #distribution counting\n",
    "        val = pd.DataFrame(np.unique(npdf[str(i)]))\n",
    "        tokd = pd.DataFrame(val[0].map(str).apply(list))\n",
    "        tokd[0].apply(mapval,args = (i,))\n",
    "\n",
    "        ##Language model implementation\n",
    "        toke = list(val[0].str.cat(sep='\\n'))\n",
    "        mingram[str(i)] = 3\n",
    "        u,inv = np.unique(toke,return_inverse = True)\n",
    "        te = np.array([d[x] for x in u])[inv].reshape(len(toke))\n",
    "        total[str(i)] = len(te)\n",
    "        bigr = nltk.ngrams(te,mingram[str(i)])\n",
    "        condition_pairs = (((w[:-1]), w[-1]) for w in bigr)\n",
    "        cfd[str(i)] = nltk.ConditionalFreqDist(condition_pairs)\n",
    "        print(\"Column \",str(i), \"is completed\")\n",
    "    print(cfd)\n",
    "    \n",
    "print(\"Training takes place..\")\n",
    "trainmode()\n",
    "print(datetime.now() - startTime)\n",
    "print(\"Training completed and testing takes place in testing data\")"
   ]
  },
  {
   "cell_type": "code",
   "execution_count": 263,
   "metadata": {},
   "outputs": [
    {
     "name": "stdout",
     "output_type": "stream",
     "text": [
      "Column  0 is completed\n",
      "Column  1 is completed\n",
      "Column  2 is completed\n",
      "Column  3 is completed\n",
      "Column  4 is completed\n",
      "Column  5 is completed\n",
      "Column  6 is completed\n",
      "Column  7 is completed\n",
      "Column  8 is completed\n",
      "Column  9 is completed\n",
      "Column  10 is completed\n",
      "Column  11 is completed\n",
      "Column  12 is completed\n",
      "Column  13 is completed\n",
      "Column  14 is completed\n",
      "Column  15 is completed\n"
     ]
    },
    {
     "name": "stderr",
     "output_type": "stream",
     "text": [
      "C:\\Users\\gsoun\\AppData\\Local\\Continuum\\anaconda3\\lib\\site-packages\\ipykernel_launcher.py:45: UserWarning: Boolean Series key will be reindexed to match DataFrame index.\n",
      "C:\\Users\\gsoun\\AppData\\Local\\Continuum\\anaconda3\\lib\\site-packages\\ipykernel_launcher.py:46: UserWarning: Boolean Series key will be reindexed to match DataFrame index.\n"
     ]
    },
    {
     "name": "stdout",
     "output_type": "stream",
     "text": [
      "Accepted table available in AcceptedPD\n",
      "Rejected table available in RejectedPD\n",
      "0:00:49.717868\n"
     ]
    }
   ],
   "source": [
    "startTime = datetime.now()\n",
    "def tmapval(a, i):\n",
    "    u,inv = np.unique(a,return_inverse= True)\n",
    "    tel = tuple(np.array([d[x] for x in u])[inv])\n",
    "    if tel not in lin[str(i)]:\n",
    "        rejli[str(i)].append(tel)\n",
    "        rejrli[str(i)].append(\"\".join(a[2:-2]))\n",
    "        \n",
    "def feature_mapping():\n",
    "    for i in cols:\n",
    "        tdf = pd.DataFrame(tedf[str(i)].map(str).apply(list))\n",
    "        indi[str(i)] = pd.Index(tempn[str(i)])\n",
    "        tdf[str(i)].apply(tmapval, args = (i,))\n",
    "        print(\"Column \",str(i), \"is completed\")\n",
    "        if len(rejli[str(i)]) !=0:\n",
    "            for j in rejli[str(i)]:\n",
    "                tr = nltk.ngrams(j,mingram[str(i)])\n",
    "                if len(list(tr)) ==0:\n",
    "                    vi = 0\n",
    "                    tem = rejrli[str(i)][rejli[str(i)].index(j)]\n",
    "                    test[str(i)].add(str(\"\".join(tem)))\n",
    "                    continue\n",
    "                else:\n",
    "                    tr = nltk.ngrams(j,mingram[str(i)])\n",
    "                    cpairs = (((w[:-1]), w[-1]) for w in tr)\n",
    "                    co = 0\n",
    "                    vi = 0\n",
    "                    for k in list(cpairs):\n",
    "                        v = cfd[str(i)][k[0]][k[1]]\n",
    "                        if co == 0:\n",
    "                            vi = v/total[str(i)]\n",
    "                            co = 1\n",
    "                        else:\n",
    "                            vi *= v/total[str(i)]\n",
    "                    if vi ==0:\n",
    "                        tel = rejrli[str(i)][rejli[str(i)].index(j)]\n",
    "                        test[str(i)].add(str(\"\".join(tel)))\n",
    "        Xpd.loc[list(temp[temp[str(i)].isin(list(rejrli[str(i)]))].index),str(i)] = 0.5\n",
    "        Xpd.loc[list(temp[temp[str(i)].isin(list(test[str(i)]))].index),str(i)] = 1\n",
    "\n",
    "    \n",
    "\n",
    "x = feature_mapping()\n",
    "Xpd['sum'] = Xpd.sum(axis=1)\n",
    "Rejectedpd = temp[Xpd['sum']>=2]\n",
    "AcceptedPd = temp[~(Xpd['sum']>=2)]\n",
    "print(\"Accepted table available in AcceptedPD\")\n",
    "print(\"Rejected table available in RejectedPD\")\n",
    "print(datetime.now() - startTime)"
   ]
  },
  {
   "cell_type": "code",
   "execution_count": 264,
   "metadata": {},
   "outputs": [
    {
     "data": {
      "text/plain": [
       "(382879, 16)"
      ]
     },
     "execution_count": 264,
     "metadata": {},
     "output_type": "execute_result"
    }
   ],
   "source": [
    "AcceptedPd.shape"
   ]
  },
  {
   "cell_type": "code",
   "execution_count": 265,
   "metadata": {},
   "outputs": [
    {
     "data": {
      "text/plain": [
       "(4, 16)"
      ]
     },
     "execution_count": 265,
     "metadata": {},
     "output_type": "execute_result"
    }
   ],
   "source": [
    "Rejectedpd.shape"
   ]
  },
  {
   "cell_type": "code",
   "execution_count": 266,
   "metadata": {},
   "outputs": [
    {
     "data": {
      "text/html": [
       "<div>\n",
       "<style scoped>\n",
       "    .dataframe tbody tr th:only-of-type {\n",
       "        vertical-align: middle;\n",
       "    }\n",
       "\n",
       "    .dataframe tbody tr th {\n",
       "        vertical-align: top;\n",
       "    }\n",
       "\n",
       "    .dataframe thead th {\n",
       "        text-align: right;\n",
       "    }\n",
       "</style>\n",
       "<table border=\"1\" class=\"dataframe\">\n",
       "  <thead>\n",
       "    <tr style=\"text-align: right;\">\n",
       "      <th></th>\n",
       "      <th>0</th>\n",
       "      <th>1</th>\n",
       "      <th>2</th>\n",
       "      <th>3</th>\n",
       "      <th>4</th>\n",
       "      <th>5</th>\n",
       "      <th>6</th>\n",
       "      <th>7</th>\n",
       "      <th>8</th>\n",
       "      <th>9</th>\n",
       "      <th>10</th>\n",
       "      <th>11</th>\n",
       "      <th>12</th>\n",
       "      <th>13</th>\n",
       "      <th>14</th>\n",
       "      <th>15</th>\n",
       "    </tr>\n",
       "  </thead>\n",
       "  <tbody>\n",
       "    <tr>\n",
       "      
       "    </tr>\n",
       "    <tr>\n",
       "      
       "    </tr>\n",
       "    <tr>\n",
       "      
       "    </tr>\n",
       "    <tr>\n",

       "    </tr>\n",
       "  </tbody>\n",
       "</table>\n",
       "</div>"
      ],
      "text/plain": [
       
      ]
     },
     "execution_count": 266,
     "metadata": {},
     "output_type": "execute_result"
    }
   ],
   "source": [
    "Rejectedpd"
   ]
  },
  {
   "cell_type": "code",
   "execution_count": 267,
   "metadata": {},
   "outputs": [
    {
     "data": {
      "text/html": [
       "<div>\n",
       "<style scoped>\n",
       "    .dataframe tbody tr th:only-of-type {\n",
       "        vertical-align: middle;\n",
       "    }\n",
       "\n",
       "    .dataframe tbody tr th {\n",
       "        vertical-align: top;\n",
       "    }\n",
       "\n",
       "    .dataframe thead th {\n",
       "        text-align: right;\n",
       "    }\n",
       "</style>\n",
       "<table border=\"1\" class=\"dataframe\">\n",
       "  <thead>\n",
       "    <tr style=\"text-align: right;\">\n",
       "      <th></th>\n",
       "      <th>0</th>\n",
       "      <th>1</th>\n",
       "      <th>2</th>\n",
       "      <th>3</th>\n",
       "      <th>4</th>\n",
       "      <th>5</th>\n",
       "      <th>6</th>\n",
       "      <th>7</th>\n",
       "      <th>8</th>\n",
       "      <th>9</th>\n",
       "      <th>10</th>\n",
       "      <th>11</th>\n",
       "      <th>12</th>\n",
       "      <th>13</th>\n",
       "      <th>14</th>\n",
       "      <th>15</th>\n",
       "      <th>sum</th>\n",
       "    </tr>\n",
       "  </thead>\n",
       "  <tbody>\n",
       "    <tr>\n",
       "      <th>20</th>\n",
       "      <td>1.0</td>\n",
       "      <td>1.0</td>\n",
       "      <td>1.0</td>\n",
       "      <td>1.0</td>\n",
       "      <td>0.0</td>\n",
       "      <td>0.0</td>\n",
       "      <td>0.0</td>\n",
       "      <td>0.0</td>\n",
       "      <td>0.0</td>\n",
       "      <td>0.0</td>\n",
       "      <td>1.0</td>\n",
       "      <td>0.0</td>\n",
       "      <td>0.0</td>\n",
       "      <td>0.0</td>\n",
       "      <td>0.0</td>\n",
       "      <td>0.0</td>\n",
       "      <td>5.0</td>\n",
       "    </tr>\n",
       "    <tr>\n",
       "      <th>31009</th>\n",
       "      <td>0.0</td>\n",
       "      <td>0.0</td>\n",
       "      <td>0.5</td>\n",
       "      <td>1.0</td>\n",
       "      <td>0.0</td>\n",
       "      <td>0.0</td>\n",
       "      <td>0.0</td>\n",
       "      <td>0.5</td>\n",
       "      <td>0.0</td>\n",
       "      <td>0.0</td>\n",
       "      <td>0.0</td>\n",
       "      <td>0.0</td>\n",
       "      <td>0.0</td>\n",
       "      <td>0.0</td>\n",
       "      <td>0.0</td>\n",
       "      <td>0.0</td>\n",
       "      <td>2.0</td>\n",
       "    </tr>\n",
       "    <tr>\n",
       "      <th>38846</th>\n",
       "      <td>0.0</td>\n",
       "      <td>0.0</td>\n",
       "      <td>0.5</td>\n",
       "      <td>0.0</td>\n",
       "      <td>0.0</td>\n",
       "      <td>0.0</td>\n",
       "      <td>0.0</td>\n",
       "      <td>1.0</td>\n",
       "      <td>0.0</td>\n",
       "      <td>0.0</td>\n",
       "      <td>0.0</td>\n",
       "      <td>0.0</td>\n",
       "      <td>0.0</td>\n",
       "      <td>0.0</td>\n",
       "      <td>0.0</td>\n",
       "      <td>1.0</td>\n",
       "      <td>2.5</td>\n",
       "    </tr>\n",
       "    <tr>\n",
       "      <th>292037</th>\n",
       "      <td>1.0</td>\n",
       "      <td>0.0</td>\n",
       "      <td>0.5</td>\n",
       "      <td>0.0</td>\n",
       "      <td>0.0</td>\n",
       "      <td>0.0</td>\n",
       "      <td>0.0</td>\n",
       "      <td>1.0</td>\n",
       "      <td>0.0</td>\n",
       "      <td>0.0</td>\n",
       "      <td>0.0</td>\n",
       "      <td>0.0</td>\n",
       "      <td>0.0</td>\n",
       "      <td>0.0</td>\n",
       "      <td>0.0</td>\n",
       "      <td>0.0</td>\n",
       "      <td>2.5</td>\n",
       "    </tr>\n",
       "  </tbody>\n",
       "</table>\n",
       "</div>"
      ],
      "text/plain": [
       "          0    1    2    3    4    5    6    7    8    9   10   11   12   13  \\\n",
       "20      1.0  1.0  1.0  1.0  0.0  0.0  0.0  0.0  0.0  0.0  1.0  0.0  0.0  0.0   \n",
       "31009   0.0  0.0  0.5  1.0  0.0  0.0  0.0  0.5  0.0  0.0  0.0  0.0  0.0  0.0   \n",
       "38846   0.0  0.0  0.5  0.0  0.0  0.0  0.0  1.0  0.0  0.0  0.0  0.0  0.0  0.0   \n",
       "292037  1.0  0.0  0.5  0.0  0.0  0.0  0.0  1.0  0.0  0.0  0.0  0.0  0.0  0.0   \n",
       "\n",
       "         14   15  sum  \n",
       "20      0.0  0.0  5.0  \n",
       "31009   0.0  0.0  2.0  \n",
       "38846   0.0  1.0  2.5  \n",
       "292037  0.0  0.0  2.5  "
      ]
     },
     "execution_count": 267,
     "metadata": {},
     "output_type": "execute_result"
    }
   ],
   "source": [
    "Xpd[Xpd['sum']>=2]"
   ]
  },
  {
   "cell_type": "code",
   "execution_count": 248,
   "metadata": {},
   "outputs": [
    {
     "data": {
      "text/plain": [
       "20    1.0\n",
       "Name: 10, dtype: float64"
      ]
     },
     "execution_count": 248,
     "metadata": {},
     "output_type": "execute_result"
    }
   ],
   "source": [
    "Xpd.loc[list(temp[temp['10'].isin(list(test['10']))].index), '10']"
   ]
  },
  {
   "cell_type": "code",
   "execution_count": null,
   "metadata": {},
   "outputs": [],
   "source": []
  }
 ],
 "metadata": {
  "kernelspec": {
   "display_name": "Python 3",
   "language": "python",
   "name": "python3"
  },
  "language_info": {
   "codemirror_mode": {
    "name": "ipython",
    "version": 3
   },
   "file_extension": ".py",
   "mimetype": "text/x-python",
   "name": "python",
   "nbconvert_exporter": "python",
   "pygments_lexer": "ipython3",
   "version": "3.6.5"
  }
 },
 "nbformat": 4,
 "nbformat_minor": 2
}
